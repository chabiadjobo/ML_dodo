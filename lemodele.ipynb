{
 "cells": [
  {
   "cell_type": "code",
   "execution_count": 63,
   "metadata": {},
   "outputs": [],
   "source": [
    "%reset -f"
   ]
  },
  {
   "cell_type": "markdown",
   "metadata": {},
   "source": [
    "# 1- Les bibliothèques à importer"
   ]
  },
  {
   "cell_type": "code",
   "execution_count": 64,
   "metadata": {},
   "outputs": [],
   "source": [
    "import pandas as pd\n",
    "import ydata_profiling as yp\n",
    "from ydata_profiling import ProfileReport\n",
    "from sklearn.preprocessing import LabelEncoder"
   ]
  },
  {
   "cell_type": "markdown",
   "metadata": {},
   "source": [
    "# 2- Importation, compréhension, Prétraitement et Transformation des données des bases de données"
   ]
  },
  {
   "cell_type": "markdown",
   "metadata": {},
   "source": [
    "## 2-1 Importation et compréhension des bases de données"
   ]
  },
  {
   "cell_type": "code",
   "execution_count": 65,
   "metadata": {},
   "outputs": [],
   "source": [
    "dataset = pd.read_csv('dataset.csv', delimiter=',', quotechar='\"')\n",
    "datasetsupplement = pd.read_csv('dataset_supplement.csv', delimiter=',', quotechar='\"')\n"
   ]
  },
  {
   "cell_type": "markdown",
   "metadata": {},
   "source": [
    "Il s'agit de deux bases de données liées par la variable id dans la base dataset et movie_id dans la base dataset_supplement. Ces deux bases de données donnent des informations sur 4803 films. un premier constat, certaines variables (exemple des variables actors, production-crew, attributs_spoken_languages, etc.) contiennent une liste de dictionnaires, où chaque dictionnaire représente un unité et contient plusieurs attributs. Il est donc indispensable d'extraire les informations pertinentes des données brutes de ces variables pour les rendre exploitables pour le machine learning"
   ]
  },
  {
   "cell_type": "markdown",
   "metadata": {},
   "source": [
    "## 2-2 Prétraitement"
   ]
  },
  {
   "cell_type": "markdown",
   "metadata": {},
   "source": [
    "La première étape est d'identifier ces variables, surtout celle qui sont utile pour le machine learning, ensuite d'identifier les informations à extraire. Les variables concernées sont : \n",
    "1 - pour la base dataset : spoken_languages, countries_of_production, production, keywords et genres ; \n",
    "2 - pour la base dataset_supplement : actors et production_crew.\n",
    "\n",
    "Pour la suite, les vafriables production et keywords ne seront pas pris en compte à cause du très grands nombre de modalités"
   ]
  },
  {
   "cell_type": "markdown",
   "metadata": {},
   "source": [
    "#### Fonction pour extraire les modalités d'un attribut complexe"
   ]
  },
  {
   "cell_type": "code",
   "execution_count": 66,
   "metadata": {},
   "outputs": [],
   "source": [
    "\n",
    "def extraire_modalites(row, variable, attribut):\n",
    "    elements = eval(row[variable])\n",
    "    modalites = set()\n",
    "    for element in elements:\n",
    "        if attribut in element:\n",
    "            modalites.add(element[attribut])\n",
    "    return modalites"
   ]
  },
  {
   "cell_type": "markdown",
   "metadata": {},
   "source": [
    "#### Fonction pour compter les occurrences de chaque modalité"
   ]
  },
  {
   "cell_type": "code",
   "execution_count": 67,
   "metadata": {},
   "outputs": [],
   "source": [
    "def compter_occurrences(row, variable, attribut, modalite):\n",
    "    elements = eval(row[variable])\n",
    "    nb_occurrences = sum(1 for element in elements if attribut in element and element[attribut] == modalite)\n",
    "    return nb_occurrences"
   ]
  },
  {
   "cell_type": "markdown",
   "metadata": {},
   "source": [
    "#### Fonction pour ajouter les nouvelles variables à la base de données"
   ]
  },
  {
   "cell_type": "code",
   "execution_count": 68,
   "metadata": {},
   "outputs": [],
   "source": [
    "def ajouter_nouvelles_variables(data, variable, attribut):\n",
    "    modalites = set()\n",
    "    for index, row in data.iterrows():\n",
    "        modalites.update(extraire_modalites(row, variable, attribut))\n",
    "    for modalite in modalites:\n",
    "        nom_colonne = variable + '_' + attribut + '_' + str(modalite)\n",
    "        data[nom_colonne] = data.apply(lambda x: compter_occurrences(x, variable, attribut, modalite), axis=1)\n",
    "    # Ajouter une variable avec le nombre de modalités par attribut\n",
    "    Nb_modalite_nom_colonne = 'Nb_modalite' + variable + '_' + attribut\n",
    "    data[Nb_modalite_nom_colonne] = data.apply(lambda x: len(extraire_modalites(x, variable, attribut)), axis=1)"
   ]
  },
  {
   "cell_type": "markdown",
   "metadata": {},
   "source": [
    "#### Liste des attributs à considérer par variable"
   ]
  },
  {
   "cell_type": "code",
   "execution_count": 69,
   "metadata": {},
   "outputs": [],
   "source": [
    "#dans la base dataset\n",
    "attributs_actors = ['gender']\n",
    "attributs_production_crew = ['department', 'gender']\n",
    "\n",
    "# Dans la base supplémentaire\n",
    "attributs_spoken_languages = ['name']\n",
    "attributs_countries_of_production = ['name']\n",
    "attributs_genres = ['name']"
   ]
  },
  {
   "cell_type": "markdown",
   "metadata": {},
   "source": [
    "#### Extraction des informations et création des variables"
   ]
  },
  {
   "cell_type": "code",
   "execution_count": null,
   "metadata": {},
   "outputs": [],
   "source": [
    "for attribut in attributs_production_crew:\n",
    "    ajouter_nouvelles_variables(datasetsupplement, 'production_crew', attribut)\n",
    "\n",
    "for attribut in attributs_actors:\n",
    "    ajouter_nouvelles_variables(datasetsupplement, 'actors', attribut)\n",
    "\n",
    "for attribut in attributs_spoken_languages:\n",
    "    ajouter_nouvelles_variables(dataset, 'spoken_languages', attribut)\n",
    "\n",
    "for attribut in attributs_countries_of_production:\n",
    "    ajouter_nouvelles_variables(dataset, 'countries_of_production', attribut)\n",
    "\n",
    "for attribut in attributs_genres:\n",
    "    ajouter_nouvelles_variables(dataset, 'genres', attribut)"
   ]
  },
  {
   "cell_type": "code",
   "execution_count": 72,
   "metadata": {},
   "outputs": [],
   "source": [
    "# Sauvegarder la nouvelle base de données\n",
    "datasetsupplement.to_csv('datasetsupplement_new.csv', index=False)\n",
    "dataset.to_csv('dataset_new.csv', index=False)"
   ]
  },
  {
   "cell_type": "markdown",
   "metadata": {},
   "source": [
    "# 3 Sélection des variables"
   ]
  },
  {
   "cell_type": "markdown",
   "metadata": {},
   "source": [
    "### Fusion des bases de données"
   ]
  },
  {
   "cell_type": "code",
   "execution_count": 81,
   "metadata": {},
   "outputs": [],
   "source": [
    "# Fusionner les DataFrames sur les colonnes \"id\" et \"movie_id\"\n",
    "merged_dataset = pd.merge(dataset, datasetsupplement, left_on='id', right_on='movie_id')\n",
    "\n",
    "# Réorganiser les colonnes pour déplacer la colonne \"id\" en début de base de données\n",
    "merged_dataset = merged_dataset[['id'] + [col for col in merged_dataset.columns if col != 'id']]\n",
    "\n",
    "# Supprimer la colonne \"movie_id\" qui est devenue redondante après la fusion\n",
    "merged_dataset.drop(columns=['movie_id', 'Unnamed: 0_x', 'Unnamed: 0_y'], inplace=True)\n",
    "\n",
    "# Sauvegarder le DataFrame fusionné dans un nouveau fichier CSV\n",
    "merged_dataset.to_csv('merged_dataset.csv', index=False)\n"
   ]
  },
  {
   "cell_type": "markdown",
   "metadata": {},
   "source": [
    "### Suppression des variables"
   ]
  },
  {
   "cell_type": "markdown",
   "metadata": {},
   "source": [
    "1- les variables suivantes vont êtres supprimées dans la mesures où les informations utiles ont étéextraites : 'production_crew', 'actors', 'spoken_languages', 'genres',\n",
    "2 - Les variables suivantes sont supprimées parce que trop d'information : 'title_x', 'tagline', \n",
    "3 - Les variables créées pour chaque langue ont été supprimées compte tenu du nombre de langue élevé. Seule la variables renseignant chaque le nombre de langue a été maintenu"
   ]
  },
  {
   "cell_type": "code",
   "execution_count": 82,
   "metadata": {},
   "outputs": [],
   "source": [
    "# Liste des variables à supprimer\n",
    "variables_a_supprimer = ['production_crew', 'actors', 'spoken_languages', 'genres', 'title_x', 'tagline', 'overview' , 'original_title' , 'homepage' , 'spoken_languages_name_', 'spoken_languages_name_Bosanski', 'spoken_languages_name_普通话', 'spoken_languages_name_广州话 / 廣州話', 'spoken_languages_name_తెలుగు', 'spoken_languages_name_Slovenščina', 'spoken_languages_name_Íslenska', 'spoken_languages_name_বাংলা', 'spoken_languages_name_svenska', 'spoken_languages_name_Srpski', 'spoken_languages_name_Slovenčina', 'spoken_languages_name_Gaeilge', 'spoken_languages_name_Català', 'spoken_languages_name_Latin', 'spoken_languages_name_हिन्दी', 'spoken_languages_name_فارسی', 'spoken_languages_name_Polski', 'spoken_languages_name_Türkçe', 'spoken_languages_name_Bamanankan', 'spoken_languages_name_No Language', 'spoken_languages_name_Português', 'spoken_languages_name_Bahasa indonesia', 'spoken_languages_name_Español', 'spoken_languages_name_Nederlands', 'spoken_languages_name_български език', 'spoken_languages_name_suomi', 'spoken_languages_name_ภาษาไทย', 'spoken_languages_name_العربية', 'spoken_languages_name_Esperanto', 'spoken_languages_name_isiZulu', 'spoken_languages_name_Český', 'spoken_languages_name_日本語', 'spoken_languages_name_اردو', 'spoken_languages_name_қазақ', 'spoken_languages_name_Dansk', 'spoken_languages_name_ქართული', 'spoken_languages_name_한국어/조선말', 'spoken_languages_name_Tiếng Việt', 'spoken_languages_name_Italiano', 'spoken_languages_name_shqip', 'spoken_languages_name_??????', 'spoken_languages_name_Wolof', 'spoken_languages_name_Somali', 'spoken_languages_name_پښتو', 'spoken_languages_name_Français', 'spoken_languages_name_Cymraeg', 'spoken_languages_name_English', 'spoken_languages_name_Română', 'spoken_languages_name_Pусский', 'spoken_languages_name_Eesti', 'spoken_languages_name_Deutsch', 'spoken_languages_name_ਪੰਜਾਬੀ', 'spoken_languages_name_Hrvatski', 'spoken_languages_name_ελληνικά', 'spoken_languages_name_Norsk', 'spoken_languages_name_Afrikaans', 'spoken_languages_name_Kiswahili', 'spoken_languages_name_עִבְרִית', 'spoken_languages_name_Galego', 'spoken_languages_name_தமிழ்', 'spoken_languages_name_Magyar', 'spoken_languages_name_Український', 'countries_of_production_name_Colombia', 'countries_of_production_name_Singapore', 'countries_of_production_name_Pakistan', 'countries_of_production_name_Romania', 'countries_of_production_name_Thailand', 'countries_of_production_name_Czech Republic', 'countries_of_production_name_United States of America', 'countries_of_production_name_Slovakia', 'countries_of_production_name_Sweden', 'countries_of_production_name_Malta', 'countries_of_production_name_United Arab Emirates', 'countries_of_production_name_Bulgaria', 'countries_of_production_name_Poland', 'countries_of_production_name_Kazakhstan', 'countries_of_production_name_Spain', 'countries_of_production_name_India', 'countries_of_production_name_Iceland', 'countries_of_production_name_Ecuador', 'countries_of_production_name_France', 'countries_of_production_name_China', 'countries_of_production_name_Jordan', 'countries_of_production_name_Finland', 'countries_of_production_name_Kyrgyz Republic', 'countries_of_production_name_Japan', 'countries_of_production_name_Aruba', 'countries_of_production_name_Belgium', 'countries_of_production_name_Austria', 'countries_of_production_name_South Africa', 'countries_of_production_name_Hungary', 'countries_of_production_name_Denmark', 'countries_of_production_name_Greece', 'countries_of_production_name_Lithuania', 'countries_of_production_name_Guadaloupe', 'countries_of_production_name_Iran', 'countries_of_production_name_Bolivia', 'countries_of_production_name_Netherlands', 'countries_of_production_name_Cameroon', 'countries_of_production_name_Tunisia', 'countries_of_production_name_Luxembourg', 'countries_of_production_name_Bhutan', 'countries_of_production_name_Dominican Republic', 'countries_of_production_name_Bosnia and Herzegovina', 'countries_of_production_name_Morocco', 'countries_of_production_name_Taiwan', 'countries_of_production_name_New Zealand', 'countries_of_production_name_Nigeria', 'countries_of_production_name_Slovenia', 'countries_of_production_name_Malaysia', 'countries_of_production_name_Monaco', 'countries_of_production_name_Brazil', 'countries_of_production_name_Peru', 'countries_of_production_name_Cambodia', 'countries_of_production_name_Serbia and Montenegro', 'countries_of_production_name_Cyprus', 'countries_of_production_name_Afghanistan', 'countries_of_production_name_Angola', 'countries_of_production_name_Fiji', 'countries_of_production_name_Israel', 'countries_of_production_name_Lebanon', 'countries_of_production_name_Canada', 'countries_of_production_name_Russia', 'countries_of_production_name_Indonesia', 'countries_of_production_name_Bahamas', 'countries_of_production_name_Kenya', 'countries_of_production_name_Italy', 'countries_of_production_name_Germany', 'countries_of_production_name_South Korea', 'countries_of_production_name_Libyan Arab Jamahiriya', 'countries_of_production_name_Norway', 'countries_of_production_name_Ukraine', 'countries_of_production_name_Mexico', 'countries_of_production_name_Serbia', 'countries_of_production_name_Turkey', 'countries_of_production_name_Hong Kong', 'countries_of_production_name_United Kingdom', 'countries_of_production_name_Switzerland', 'countries_of_production_name_Guyana', 'countries_of_production_name_Dominica', 'countries_of_production_name_Jamaica', 'countries_of_production_name_Ireland', 'countries_of_production_name_Australia', 'countries_of_production_name_Argentina', 'countries_of_production_name_Chile', 'countries_of_production_name_Algeria', 'countries_of_production_name_Egypt', 'countries_of_production_name_Portugal', 'countries_of_production_name_Philippines', 'countries_of_production_name_Panama', 'Nb_modaliteproduction_crew_gender', 'Nb_modaliteactors_gender', ]\n",
    "\n",
    "# Supprimer les variables spécifiées\n",
    "merged_dataset.drop(columns=variables_a_supprimer, inplace=True)"
   ]
  },
  {
   "cell_type": "code",
   "execution_count": 84,
   "metadata": {},
   "outputs": [],
   "source": [
    "merged_dataset.to_csv('merged_dataset.csv', index=False)"
   ]
  },
  {
   "cell_type": "markdown",
   "metadata": {},
   "source": [
    "### Exploratory data analysis"
   ]
  },
  {
   "cell_type": "code",
   "execution_count": 86,
   "metadata": {},
   "outputs": [
    {
     "data": {
      "application/vnd.jupyter.widget-view+json": {
       "model_id": "a37f1398e469485f8a4f81a45cd6c789",
       "version_major": 2,
       "version_minor": 0
      },
      "text/plain": [
       "Summarize dataset:   0%|          | 0/5 [00:00<?, ?it/s]"
      ]
     },
     "metadata": {},
     "output_type": "display_data"
    },
    {
     "name": "stderr",
     "output_type": "stream",
     "text": [
      "/media/ayedesso/9CEA8269EA823F8E/Travail_ubuntu/Autres_travaux/ML_dodo/venvir/lib/python3.10/site-packages/ydata_profiling/model/correlations.py:66: UserWarning: There was an attempt to calculate the auto correlation, but this failed.\n",
      "To hide this warning, disable the calculation\n",
      "(using `df.profile_report(correlations={\"auto\": {\"calculate\": False}})`\n",
      "If this is problematic for your use case, please report this as an issue:\n",
      "https://github.com/ydataai/ydata-profiling/issues\n",
      "(include the error message: 'could not convert string to float: 'en'')\n",
      "  warnings.warn(\n",
      "/media/ayedesso/9CEA8269EA823F8E/Travail_ubuntu/Autres_travaux/ML_dodo/venvir/lib/python3.10/site-packages/seaborn/matrix.py:260: FutureWarning: Format strings passed to MaskedConstant are ignored, but in future may error or produce different behavior\n",
      "  annotation = (\"{:\" + self.fmt + \"}\").format(val)\n",
      "/media/ayedesso/9CEA8269EA823F8E/Travail_ubuntu/Autres_travaux/ML_dodo/venvir/lib/python3.10/site-packages/ydata_profiling/model/missing.py:78: UserWarning: There was an attempt to generate the Heatmap missing values diagrams, but this failed.\n",
      "To hide this warning, disable the calculation\n",
      "(using `df.profile_report(missing_diagrams={\"Heatmap\": False}`)\n",
      "If this is problematic for your use case, please report this as an issue:\n",
      "https://github.com/ydataai/ydata-profiling/issues\n",
      "(include the error message: 'could not convert string to float: '--'')\n",
      "  warnings.warn(\n"
     ]
    },
    {
     "data": {
      "application/vnd.jupyter.widget-view+json": {
       "model_id": "1af39dcc865040539d57ad221b8bf122",
       "version_major": 2,
       "version_minor": 0
      },
      "text/plain": [
       "Generate report structure:   0%|          | 0/1 [00:00<?, ?it/s]"
      ]
     },
     "metadata": {},
     "output_type": "display_data"
    },
    {
     "data": {
      "application/vnd.jupyter.widget-view+json": {
       "model_id": "35b12584a2404c18b6b9a044e0f10254",
       "version_major": 2,
       "version_minor": 0
      },
      "text/plain": [
       "Render widgets:   0%|          | 0/1 [00:00<?, ?it/s]"
      ]
     },
     "metadata": {},
     "output_type": "display_data"
    },
    {
     "data": {
      "application/vnd.jupyter.widget-view+json": {
       "model_id": "85c21cf1e3a94667a18da1fab43a6e99",
       "version_major": 2,
       "version_minor": 0
      },
      "text/plain": [
       "VBox(children=(Tab(children=(Tab(children=(GridBox(children=(VBox(children=(GridspecLayout(children=(HTML(valu…"
      ]
     },
     "metadata": {},
     "output_type": "display_data"
    },
    {
     "data": {
      "application/vnd.jupyter.widget-view+json": {
       "model_id": "48230b96c9e3476d8e09939a16f2d2d0",
       "version_major": 2,
       "version_minor": 0
      },
      "text/plain": [
       "Render HTML:   0%|          | 0/1 [00:00<?, ?it/s]"
      ]
     },
     "metadata": {},
     "output_type": "display_data"
    },
    {
     "data": {
      "application/vnd.jupyter.widget-view+json": {
       "model_id": "97ee35d4e6fa44bc855923b33d01b8b3",
       "version_major": 2,
       "version_minor": 0
      },
      "text/plain": [
       "Export report to file:   0%|          | 0/1 [00:00<?, ?it/s]"
      ]
     },
     "metadata": {},
     "output_type": "display_data"
    }
   ],
   "source": [
    "#dataset.describe()\n",
    "profile = ProfileReport(merged_dataset)\n",
    "profile.to_widgets()\n",
    "profile.to_file(\"rapport.html\")"
   ]
  },
  {
   "cell_type": "markdown",
   "metadata": {},
   "source": [
    "### Analyse du rapport"
   ]
  },
  {
   "cell_type": "markdown",
   "metadata": {},
   "source": [
    "Les données présentent une qualité globalement satisfaisante, avec l'absence de valeurs en double et un faible pourcentage de cellules manquantes (0.4%). La diversité des types de variables, comprenant des variables numériques, catégoriques, de type DateTime et de type texte, suggère la nécessité d'utiliser une gamme variée de techniques d'analyse et de modélisation pour explorer et comprendre les données. Avec 4803 observations, l'ensemble de données est de taille moyenne à grande, offrant suffisamment de données pour mener des analyses significatives et construire des modèles prédictifs robustes. "
   ]
  },
  {
   "cell_type": "markdown",
   "metadata": {},
   "source": [
    "Les alertes fournies par le profil de données indiquent plusieurs aspects à considérer :\n",
    "\n",
    "    Déséquilibre des variables catégorielles : Plusieurs variables présentent un déséquilibre important dans leurs modalités, ce qui peut biaiser les résultats des analyses et des modèles construits. Elles seront supprimées. \n",
    "\n",
    "    Données manquantes : Certaines variables contiennent un pourcentage non négligeable de valeurs manquantes. \n",
    "\n",
    "    Zéros dans les variables numériques : Plusieurs variables numériques présentent un pourcentage de zéros non négligeable. notemment les variables liées aux différents département de production. Certaines ont été supprimées. Par contre d'autre ont été maintenue du fait de la valeur ajoutée quelle apporte au film. C'est le cas par exemple de la variable 'production_crew_department_Visual Effects'"
   ]
  },
  {
   "cell_type": "code",
   "execution_count": 89,
   "metadata": {},
   "outputs": [],
   "source": [
    "# Liste des variables à supprimer\n",
    "variables_a_supprimer2 = ['status', 'original_language', 'genres_name_Documentary', 'genres_name_Animation', 'genres_name_Western' , 'genres_name_Foreign' , 'genres_name_War' , 'genres_name_History' , 'genres_name_Music' , 'genres_name_TV Movie' , 'production_crew_department_Actors', 'vote_average' , 'financial_investment' , 'production_crew_department_Production' , 'production_crew_department_Camera' , 'production_crew_department_Sound' , 'production_crew_department_Writing' , 'production_crew_department_Editing' , 'production_crew_department_Costume & Make-Up' , 'production_crew_department_Crew']\n",
    "\n",
    "# Supprimer les variables spécifiées\n",
    "merged_dataset.drop(columns=variables_a_supprimer2, inplace=True)\n",
    "\n",
    "# Supprimer les individus ayant la valeur 0 pour le revenu\n",
    "merged_dataset = merged_dataset[merged_dataset['revenue'] != 0]\n",
    "\n",
    "# Réinitialiser l'index après la suppression des lignes\n",
    "merged_dataset.reset_index(drop=True, inplace=True)"
   ]
  },
  {
   "cell_type": "code",
   "execution_count": 90,
   "metadata": {},
   "outputs": [
    {
     "name": "stderr",
     "output_type": "stream",
     "text": [
      "/media/ayedesso/9CEA8269EA823F8E/Travail_ubuntu/Autres_travaux/ML_dodo/venvir/lib/python3.10/site-packages/ydata_profiling/utils/dataframe.py:137: SettingWithCopyWarning: \n",
      "A value is trying to be set on a copy of a slice from a DataFrame\n",
      "\n",
      "See the caveats in the documentation: https://pandas.pydata.org/pandas-docs/stable/user_guide/indexing.html#returning-a-view-versus-a-copy\n",
      "  df.rename(columns={\"index\": \"df_index\"}, inplace=True)\n"
     ]
    },
    {
     "data": {
      "application/vnd.jupyter.widget-view+json": {
       "model_id": "43e85bf8501f482a85d178a33b56ff26",
       "version_major": 2,
       "version_minor": 0
      },
      "text/plain": [
       "Summarize dataset:   0%|          | 0/5 [00:00<?, ?it/s]"
      ]
     },
     "metadata": {},
     "output_type": "display_data"
    },
    {
     "data": {
      "application/vnd.jupyter.widget-view+json": {
       "model_id": "ee54a2f69eb448e8972d6675f4504422",
       "version_major": 2,
       "version_minor": 0
      },
      "text/plain": [
       "Generate report structure:   0%|          | 0/1 [00:00<?, ?it/s]"
      ]
     },
     "metadata": {},
     "output_type": "display_data"
    },
    {
     "data": {
      "application/vnd.jupyter.widget-view+json": {
       "model_id": "6a53cb91948d4b40b94d1d2095e936c1",
       "version_major": 2,
       "version_minor": 0
      },
      "text/plain": [
       "Render widgets:   0%|          | 0/1 [00:00<?, ?it/s]"
      ]
     },
     "metadata": {},
     "output_type": "display_data"
    },
    {
     "data": {
      "application/vnd.jupyter.widget-view+json": {
       "model_id": "f81a0db558b54743878b198aa42f3f27",
       "version_major": 2,
       "version_minor": 0
      },
      "text/plain": [
       "VBox(children=(Tab(children=(Tab(children=(GridBox(children=(VBox(children=(GridspecLayout(children=(HTML(valu…"
      ]
     },
     "metadata": {},
     "output_type": "display_data"
    },
    {
     "data": {
      "application/vnd.jupyter.widget-view+json": {
       "model_id": "357912bcb16248c4ae2e378e8aeeae34",
       "version_major": 2,
       "version_minor": 0
      },
      "text/plain": [
       "Render HTML:   0%|          | 0/1 [00:00<?, ?it/s]"
      ]
     },
     "metadata": {},
     "output_type": "display_data"
    },
    {
     "data": {
      "application/vnd.jupyter.widget-view+json": {
       "model_id": "d7c60b20f41c421389d0bdf2eabd5d9b",
       "version_major": 2,
       "version_minor": 0
      },
      "text/plain": [
       "Export report to file:   0%|          | 0/1 [00:00<?, ?it/s]"
      ]
     },
     "metadata": {},
     "output_type": "display_data"
    }
   ],
   "source": [
    "#dataset.describe()\n",
    "profile = ProfileReport(merged_dataset)\n",
    "profile.to_widgets()\n",
    "profile.to_file(\"rapport2.html\")"
   ]
  },
  {
   "cell_type": "markdown",
   "metadata": {},
   "source": [
    "### Analyse du deuxième rapport"
   ]
  },
  {
   "cell_type": "markdown",
   "metadata": {},
   "source": [
    "Après modification apportée à la base, cette étape consistera à analyser les corrélation entre la variables. Pour éviter la colinéarité, les variables indépendantes corrélées entre elles ont été analysées de près. Sur la base de la revu de litérrature, certaines ont été supprimées. Aussi, celle qui sont correlées avec la variables revenue sont supprimées. "
   ]
  },
  {
   "cell_type": "code",
   "execution_count": 91,
   "metadata": {},
   "outputs": [
    {
     "name": "stderr",
     "output_type": "stream",
     "text": [
      "/tmp/ipykernel_41854/774090869.py:5: SettingWithCopyWarning: \n",
      "A value is trying to be set on a copy of a slice from a DataFrame\n",
      "\n",
      "See the caveats in the documentation: https://pandas.pydata.org/pandas-docs/stable/user_guide/indexing.html#returning-a-view-versus-a-copy\n",
      "  merged_dataset.drop(columns=variables_a_supprimer3, inplace=True)\n"
     ]
    }
   ],
   "source": [
    "# Liste des variables à supprimer\n",
    "variables_a_supprimer3 = ['Nb_modaliteproduction_crew_department', 'production_crew_department_Art' , 'production_crew_gender_0' ,\t'production_crew_gender_1'\t, 'production_crew_gender_2', 'vote_count' , 'popularity']\n",
    "\n",
    "# Supprimer les variables spécifiées\n",
    "merged_dataset.drop(columns=variables_a_supprimer3, inplace=True)"
   ]
  },
  {
   "cell_type": "code",
   "execution_count": 92,
   "metadata": {},
   "outputs": [
    {
     "data": {
      "text/html": [
       "<div>\n",
       "<style scoped>\n",
       "    .dataframe tbody tr th:only-of-type {\n",
       "        vertical-align: middle;\n",
       "    }\n",
       "\n",
       "    .dataframe tbody tr th {\n",
       "        vertical-align: top;\n",
       "    }\n",
       "\n",
       "    .dataframe thead th {\n",
       "        text-align: right;\n",
       "    }\n",
       "</style>\n",
       "<table border=\"1\" class=\"dataframe\">\n",
       "  <thead>\n",
       "    <tr style=\"text-align: right;\">\n",
       "      <th></th>\n",
       "      <th>id</th>\n",
       "      <th>duration</th>\n",
       "      <th>revenue</th>\n",
       "      <th>Nb_modalitespoken_languages_name</th>\n",
       "      <th>Nb_modalitecountries_of_production_name</th>\n",
       "      <th>genres_name_Thriller</th>\n",
       "      <th>genres_name_Comedy</th>\n",
       "      <th>genres_name_Romance</th>\n",
       "      <th>genres_name_Mystery</th>\n",
       "      <th>genres_name_Crime</th>\n",
       "      <th>...</th>\n",
       "      <th>genres_name_Adventure</th>\n",
       "      <th>genres_name_Action</th>\n",
       "      <th>genres_name_Family</th>\n",
       "      <th>Nb_modalitegenres_name</th>\n",
       "      <th>production_crew_department_Directing</th>\n",
       "      <th>production_crew_department_Lighting</th>\n",
       "      <th>production_crew_department_Visual Effects</th>\n",
       "      <th>actors_gender_0</th>\n",
       "      <th>actors_gender_1</th>\n",
       "      <th>actors_gender_2</th>\n",
       "    </tr>\n",
       "  </thead>\n",
       "  <tbody>\n",
       "    <tr>\n",
       "      <th>count</th>\n",
       "      <td>3395.000000</td>\n",
       "      <td>3395.000000</td>\n",
       "      <td>3.347000e+03</td>\n",
       "      <td>3395.000000</td>\n",
       "      <td>3395.000000</td>\n",
       "      <td>3395.000000</td>\n",
       "      <td>3395.000000</td>\n",
       "      <td>3395.000000</td>\n",
       "      <td>3395.000000</td>\n",
       "      <td>3395.000000</td>\n",
       "      <td>...</td>\n",
       "      <td>3395.000000</td>\n",
       "      <td>3395.000000</td>\n",
       "      <td>3395.000000</td>\n",
       "      <td>3395.000000</td>\n",
       "      <td>3395.000000</td>\n",
       "      <td>3395.000000</td>\n",
       "      <td>3395.000000</td>\n",
       "      <td>3395.000000</td>\n",
       "      <td>3395.000000</td>\n",
       "      <td>3395.000000</td>\n",
       "    </tr>\n",
       "    <tr>\n",
       "      <th>mean</th>\n",
       "      <td>45688.181738</td>\n",
       "      <td>110.329897</td>\n",
       "      <td>1.169427e+08</td>\n",
       "      <td>1.513991</td>\n",
       "      <td>1.391753</td>\n",
       "      <td>0.284242</td>\n",
       "      <td>0.348159</td>\n",
       "      <td>0.178792</td>\n",
       "      <td>0.079234</td>\n",
       "      <td>0.159352</td>\n",
       "      <td>...</td>\n",
       "      <td>0.199116</td>\n",
       "      <td>0.277761</td>\n",
       "      <td>0.112518</td>\n",
       "      <td>2.634757</td>\n",
       "      <td>1.873638</td>\n",
       "      <td>0.663034</td>\n",
       "      <td>2.086892</td>\n",
       "      <td>8.150221</td>\n",
       "      <td>5.691605</td>\n",
       "      <td>11.737555</td>\n",
       "    </tr>\n",
       "    <tr>\n",
       "      <th>std</th>\n",
       "      <td>74871.359795</td>\n",
       "      <td>21.086254</td>\n",
       "      <td>1.836818e+08</td>\n",
       "      <td>0.963703</td>\n",
       "      <td>0.796088</td>\n",
       "      <td>0.451119</td>\n",
       "      <td>0.476457</td>\n",
       "      <td>0.383235</td>\n",
       "      <td>0.270144</td>\n",
       "      <td>0.366058</td>\n",
       "      <td>...</td>\n",
       "      <td>0.399395</td>\n",
       "      <td>0.447961</td>\n",
       "      <td>0.316050</td>\n",
       "      <td>1.118640</td>\n",
       "      <td>1.510988</td>\n",
       "      <td>1.685016</td>\n",
       "      <td>5.622828</td>\n",
       "      <td>12.544974</td>\n",
       "      <td>5.876005</td>\n",
       "      <td>8.310793</td>\n",
       "    </tr>\n",
       "    <tr>\n",
       "      <th>min</th>\n",
       "      <td>5.000000</td>\n",
       "      <td>0.000000</td>\n",
       "      <td>5.000000e+00</td>\n",
       "      <td>0.000000</td>\n",
       "      <td>0.000000</td>\n",
       "      <td>0.000000</td>\n",
       "      <td>0.000000</td>\n",
       "      <td>0.000000</td>\n",
       "      <td>0.000000</td>\n",
       "      <td>0.000000</td>\n",
       "      <td>...</td>\n",
       "      <td>0.000000</td>\n",
       "      <td>0.000000</td>\n",
       "      <td>0.000000</td>\n",
       "      <td>0.000000</td>\n",
       "      <td>0.000000</td>\n",
       "      <td>0.000000</td>\n",
       "      <td>0.000000</td>\n",
       "      <td>0.000000</td>\n",
       "      <td>0.000000</td>\n",
       "      <td>0.000000</td>\n",
       "    </tr>\n",
       "    <tr>\n",
       "      <th>25%</th>\n",
       "      <td>5698.500000</td>\n",
       "      <td>96.000000</td>\n",
       "      <td>1.527744e+07</td>\n",
       "      <td>1.000000</td>\n",
       "      <td>1.000000</td>\n",
       "      <td>0.000000</td>\n",
       "      <td>0.000000</td>\n",
       "      <td>0.000000</td>\n",
       "      <td>0.000000</td>\n",
       "      <td>0.000000</td>\n",
       "      <td>...</td>\n",
       "      <td>0.000000</td>\n",
       "      <td>0.000000</td>\n",
       "      <td>0.000000</td>\n",
       "      <td>2.000000</td>\n",
       "      <td>1.000000</td>\n",
       "      <td>0.000000</td>\n",
       "      <td>0.000000</td>\n",
       "      <td>2.000000</td>\n",
       "      <td>3.000000</td>\n",
       "      <td>6.000000</td>\n",
       "    </tr>\n",
       "    <tr>\n",
       "      <th>50%</th>\n",
       "      <td>11615.000000</td>\n",
       "      <td>106.000000</td>\n",
       "      <td>5.137686e+07</td>\n",
       "      <td>1.000000</td>\n",
       "      <td>1.000000</td>\n",
       "      <td>0.000000</td>\n",
       "      <td>0.000000</td>\n",
       "      <td>0.000000</td>\n",
       "      <td>0.000000</td>\n",
       "      <td>0.000000</td>\n",
       "      <td>...</td>\n",
       "      <td>0.000000</td>\n",
       "      <td>0.000000</td>\n",
       "      <td>0.000000</td>\n",
       "      <td>3.000000</td>\n",
       "      <td>1.000000</td>\n",
       "      <td>0.000000</td>\n",
       "      <td>0.000000</td>\n",
       "      <td>4.000000</td>\n",
       "      <td>4.000000</td>\n",
       "      <td>10.000000</td>\n",
       "    </tr>\n",
       "    <tr>\n",
       "      <th>75%</th>\n",
       "      <td>47711.500000</td>\n",
       "      <td>120.500000</td>\n",
       "      <td>1.400367e+08</td>\n",
       "      <td>2.000000</td>\n",
       "      <td>2.000000</td>\n",
       "      <td>1.000000</td>\n",
       "      <td>1.000000</td>\n",
       "      <td>0.000000</td>\n",
       "      <td>0.000000</td>\n",
       "      <td>0.000000</td>\n",
       "      <td>...</td>\n",
       "      <td>0.000000</td>\n",
       "      <td>1.000000</td>\n",
       "      <td>0.000000</td>\n",
       "      <td>3.000000</td>\n",
       "      <td>2.000000</td>\n",
       "      <td>0.000000</td>\n",
       "      <td>2.000000</td>\n",
       "      <td>9.000000</td>\n",
       "      <td>7.000000</td>\n",
       "      <td>15.000000</td>\n",
       "    </tr>\n",
       "    <tr>\n",
       "      <th>max</th>\n",
       "      <td>417859.000000</td>\n",
       "      <td>338.000000</td>\n",
       "      <td>2.787965e+09</td>\n",
       "      <td>9.000000</td>\n",
       "      <td>12.000000</td>\n",
       "      <td>1.000000</td>\n",
       "      <td>1.000000</td>\n",
       "      <td>1.000000</td>\n",
       "      <td>1.000000</td>\n",
       "      <td>1.000000</td>\n",
       "      <td>...</td>\n",
       "      <td>1.000000</td>\n",
       "      <td>1.000000</td>\n",
       "      <td>1.000000</td>\n",
       "      <td>7.000000</td>\n",
       "      <td>22.000000</td>\n",
       "      <td>34.000000</td>\n",
       "      <td>104.000000</td>\n",
       "      <td>164.000000</td>\n",
       "      <td>107.000000</td>\n",
       "      <td>88.000000</td>\n",
       "    </tr>\n",
       "  </tbody>\n",
       "</table>\n",
       "<p>8 rows × 24 columns</p>\n",
       "</div>"
      ],
      "text/plain": [
       "                  id     duration       revenue  \\\n",
       "count    3395.000000  3395.000000  3.347000e+03   \n",
       "mean    45688.181738   110.329897  1.169427e+08   \n",
       "std     74871.359795    21.086254  1.836818e+08   \n",
       "min         5.000000     0.000000  5.000000e+00   \n",
       "25%      5698.500000    96.000000  1.527744e+07   \n",
       "50%     11615.000000   106.000000  5.137686e+07   \n",
       "75%     47711.500000   120.500000  1.400367e+08   \n",
       "max    417859.000000   338.000000  2.787965e+09   \n",
       "\n",
       "       Nb_modalitespoken_languages_name  \\\n",
       "count                       3395.000000   \n",
       "mean                           1.513991   \n",
       "std                            0.963703   \n",
       "min                            0.000000   \n",
       "25%                            1.000000   \n",
       "50%                            1.000000   \n",
       "75%                            2.000000   \n",
       "max                            9.000000   \n",
       "\n",
       "       Nb_modalitecountries_of_production_name  genres_name_Thriller  \\\n",
       "count                              3395.000000           3395.000000   \n",
       "mean                                  1.391753              0.284242   \n",
       "std                                   0.796088              0.451119   \n",
       "min                                   0.000000              0.000000   \n",
       "25%                                   1.000000              0.000000   \n",
       "50%                                   1.000000              0.000000   \n",
       "75%                                   2.000000              1.000000   \n",
       "max                                  12.000000              1.000000   \n",
       "\n",
       "       genres_name_Comedy  genres_name_Romance  genres_name_Mystery  \\\n",
       "count         3395.000000          3395.000000          3395.000000   \n",
       "mean             0.348159             0.178792             0.079234   \n",
       "std              0.476457             0.383235             0.270144   \n",
       "min              0.000000             0.000000             0.000000   \n",
       "25%              0.000000             0.000000             0.000000   \n",
       "50%              0.000000             0.000000             0.000000   \n",
       "75%              1.000000             0.000000             0.000000   \n",
       "max              1.000000             1.000000             1.000000   \n",
       "\n",
       "       genres_name_Crime  ...  genres_name_Adventure  genres_name_Action  \\\n",
       "count        3395.000000  ...            3395.000000         3395.000000   \n",
       "mean            0.159352  ...               0.199116            0.277761   \n",
       "std             0.366058  ...               0.399395            0.447961   \n",
       "min             0.000000  ...               0.000000            0.000000   \n",
       "25%             0.000000  ...               0.000000            0.000000   \n",
       "50%             0.000000  ...               0.000000            0.000000   \n",
       "75%             0.000000  ...               0.000000            1.000000   \n",
       "max             1.000000  ...               1.000000            1.000000   \n",
       "\n",
       "       genres_name_Family  Nb_modalitegenres_name  \\\n",
       "count         3395.000000             3395.000000   \n",
       "mean             0.112518                2.634757   \n",
       "std              0.316050                1.118640   \n",
       "min              0.000000                0.000000   \n",
       "25%              0.000000                2.000000   \n",
       "50%              0.000000                3.000000   \n",
       "75%              0.000000                3.000000   \n",
       "max              1.000000                7.000000   \n",
       "\n",
       "       production_crew_department_Directing  \\\n",
       "count                           3395.000000   \n",
       "mean                               1.873638   \n",
       "std                                1.510988   \n",
       "min                                0.000000   \n",
       "25%                                1.000000   \n",
       "50%                                1.000000   \n",
       "75%                                2.000000   \n",
       "max                               22.000000   \n",
       "\n",
       "       production_crew_department_Lighting  \\\n",
       "count                          3395.000000   \n",
       "mean                              0.663034   \n",
       "std                               1.685016   \n",
       "min                               0.000000   \n",
       "25%                               0.000000   \n",
       "50%                               0.000000   \n",
       "75%                               0.000000   \n",
       "max                              34.000000   \n",
       "\n",
       "       production_crew_department_Visual Effects  actors_gender_0  \\\n",
       "count                                3395.000000      3395.000000   \n",
       "mean                                    2.086892         8.150221   \n",
       "std                                     5.622828        12.544974   \n",
       "min                                     0.000000         0.000000   \n",
       "25%                                     0.000000         2.000000   \n",
       "50%                                     0.000000         4.000000   \n",
       "75%                                     2.000000         9.000000   \n",
       "max                                   104.000000       164.000000   \n",
       "\n",
       "       actors_gender_1  actors_gender_2  \n",
       "count      3395.000000      3395.000000  \n",
       "mean          5.691605        11.737555  \n",
       "std           5.876005         8.310793  \n",
       "min           0.000000         0.000000  \n",
       "25%           3.000000         6.000000  \n",
       "50%           4.000000        10.000000  \n",
       "75%           7.000000        15.000000  \n",
       "max         107.000000        88.000000  \n",
       "\n",
       "[8 rows x 24 columns]"
      ]
     },
     "execution_count": 92,
     "metadata": {},
     "output_type": "execute_result"
    }
   ],
   "source": [
    "merged_dataset.describe()"
   ]
  },
  {
   "cell_type": "code",
   "execution_count": null,
   "metadata": {},
   "outputs": [],
   "source": []
  }
 ],
 "metadata": {
  "kernelspec": {
   "display_name": "venvir",
   "language": "python",
   "name": "python3"
  },
  "language_info": {
   "codemirror_mode": {
    "name": "ipython",
    "version": 3
   },
   "file_extension": ".py",
   "mimetype": "text/x-python",
   "name": "python",
   "nbconvert_exporter": "python",
   "pygments_lexer": "ipython3",
   "version": "3.10.12"
  }
 },
 "nbformat": 4,
 "nbformat_minor": 2
}
